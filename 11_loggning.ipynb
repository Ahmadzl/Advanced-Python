{
 "cells": [
  {
   "cell_type": "markdown",
   "id": "99fdf965-6382-4144-b08f-30fea759de05",
   "metadata": {},
   "source": [
    "# Uppgifter, Kapitel 11 - Loggning"
   ]
  },
  {
   "cell_type": "markdown",
   "id": "796283db-be36-4d2d-abd2-f8e147f182eb",
   "metadata": {},
   "source": [
    "1. Varför kan loggfiler med information vara viktiga för exempelvis företag och organisationer? "
   ]
  },
  {
   "cell_type": "code",
   "execution_count": null,
   "id": "ae8d83aa-092a-40c1-b328-0a9b45cfa6df",
   "metadata": {},
   "outputs": [],
   "source": [
    "# Loggfiler är viktiga för att hålla koll på systemet, felsöka problem, säkerställa säkerheten, följa regler och analysera prestanda."
   ]
  },
  {
   "cell_type": "markdown",
   "id": "12f67cf7-2964-46dc-8878-6eac51526fb9",
   "metadata": {},
   "source": [
    "2. Vad menas med att det finns olika nivåer för logg-meddelanden? "
   ]
  },
  {
   "cell_type": "code",
   "execution_count": null,
   "id": "9a0a8d20-eb04-4298-a0e2-887856b868df",
   "metadata": {},
   "outputs": [],
   "source": [
    "# Olika nivåer för loggmeddelanden hjälper till att sortera information efter allvarlighetsgrad, från detaljerad felsökning till kritiska problem som behöver omedelbar uppmärksamhet. \n",
    "# De vanligaste nivåerna är: DEBUG, INFO, WARNING, ERROR och CRITICAL."
   ]
  },
  {
   "cell_type": "markdown",
   "id": "f6f73def-117a-49ef-b902-c777399ed257",
   "metadata": {},
   "source": [
    "3. Skapa ett valfritt program där du också använder dig av logging modulen. "
   ]
  },
  {
   "cell_type": "code",
   "execution_count": 1,
   "id": "36385a7c-ff7f-42dd-8273-9a9061a7643e",
   "metadata": {},
   "outputs": [
    {
     "name": "stderr",
     "output_type": "stream",
     "text": [
      "2024-09-05 16:13. EC Utbildning - ERROR - This is an error message\n",
      "2024-09-05 16:13. EC Utbildning - CRITICAL - This is a critical message\n"
     ]
    }
   ],
   "source": [
    "import logging\n",
    "\n",
    "# Create a logger\n",
    "logger = logging.getLogger('EC Utbildning')\n",
    "logger.setLevel(logging.ERROR)\n",
    "\n",
    "# Set the format for log messages\n",
    "formatter = logging.Formatter('%(asctime)s. %(name)s - %(levelname)s - %(message)s')\n",
    "formatter.datefmt = '%Y-%m-%d %H:%M'\n",
    "\n",
    "# Create a file handler to log to a file\n",
    "file_handler = logging.FileHandler('EC-utbildning-log.log')\n",
    "file_handler.setFormatter(formatter)\n",
    "logger.addHandler(file_handler)\n",
    "\n",
    "# Create a stream handler to log to the console\n",
    "stream_handler = logging.StreamHandler()\n",
    "stream_handler.setFormatter(formatter)\n",
    "logger.addHandler(stream_handler)\n",
    "\n",
    "# Log messages\n",
    "logger.info(\"Program started\")\n",
    "logger.debug(\"This is a debug message\")\n",
    "logger.warning(\"This is a warning message\")\n",
    "logger.error(\"This is an error message\")\n",
    "logger.critical(\"This is a critical message\")\n",
    "\n",
    "logger.info(\"Program finished\")"
   ]
  },
  {
   "cell_type": "code",
   "execution_count": null,
   "id": "381a83f1",
   "metadata": {},
   "outputs": [],
   "source": [
    "# koden skapa en logger som endast registrerar fel och kritiska meddelanden.\n",
    "# Ställa in formatet på loggmeddelandena.\n",
    "# Logga meddelanden både till en fil och till konsolen.\n",
    "# Den visar exempel på hur man loggar olika meddelanden, men endast fel och kritiska meddelanden kommer att sparas."
   ]
  },
  {
   "cell_type": "code",
   "execution_count": 2,
   "id": "608ca751",
   "metadata": {},
   "outputs": [
    {
     "name": "stderr",
     "output_type": "stream",
     "text": [
      "2024-09-05 16:13. EC Utbildning - ERROR - This is an error message: result is not a number\n",
      "2024-09-05 16:13. EC Utbildning - CRITICAL - This is a critical message: result is undefined\n"
     ]
    }
   ],
   "source": [
    "logger.info(\"Program started\")\n",
    "x = 5\n",
    "y = 3\n",
    "result_correct = x ** y\n",
    "logger.debug(f\"This is a debug message: result of x^y is {result_correct}\")\n",
    "\n",
    "# Instead of dividing by zero, let's simulate an incorrect result\n",
    "result_incorrect = None\n",
    "logger.warning(\"This is a warning message: result is greater than 10\")\n",
    "logger.error(\"This is an error message: result is not a number\")\n",
    "logger.critical(\"This is a critical message: result is undefined\")"
   ]
  },
  {
   "cell_type": "code",
   "execution_count": null,
   "id": "43e4fb6b",
   "metadata": {},
   "outputs": [],
   "source": [
    "# logger.info(\"Program started\") markerar att programmet har startat.\n",
    "# Beräknar result_correct som x exponentiation till y och loggar ett debug-meddelande med resultatet.\n",
    "# ett felaktigt resultat och loggar varningar, fel och kritiska meddelanden för att indikera problem med resultatet."
   ]
  }
 ],
 "metadata": {
  "kernelspec": {
   "display_name": "Python 3 (ipykernel)",
   "language": "python",
   "name": "python3"
  },
  "language_info": {
   "codemirror_mode": {
    "name": "ipython",
    "version": 3
   },
   "file_extension": ".py",
   "mimetype": "text/x-python",
   "name": "python",
   "nbconvert_exporter": "python",
   "pygments_lexer": "ipython3",
   "version": "3.11.5"
  }
 },
 "nbformat": 4,
 "nbformat_minor": 5
}
