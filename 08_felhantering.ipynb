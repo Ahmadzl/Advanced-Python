{
 "cells": [
  {
   "cell_type": "markdown",
   "id": "975615f5-e018-4d02-a7f2-761d1ebf8517",
   "metadata": {},
   "source": [
    "# Uppgifter, Kapitel 8 - Felhantering"
   ]
  },
  {
   "cell_type": "markdown",
   "id": "c9b652d0-5240-494e-bf22-d71a49a46a01",
   "metadata": {},
   "source": [
    "1. Din kollega Johanna frågar dig:\n",
    "   \n",
    "   a) Vad är syntax errors?\n",
    "   \n",
    "   b) Varför skulle man vilja \"fånga exceptions\" i ett program och inte bara låta programmet stanna vid fel?\n",
    "   \n",
    "   c) Varför skulle man vilja \"lyfta exceptions\" i ett program? "
   ]
  },
  {
   "cell_type": "code",
   "execution_count": null,
   "id": "083ab699-4d1c-41c2-966b-4564646232ef",
   "metadata": {},
   "outputs": [],
   "source": [
    "# a - Ett felmeddelande uppstår när ett program inte följer syntaxreglerna för språket, som när man glömmer att stänga en parentes eller skriver ett kommando fel. Dessa fel måste rättas innan programmet kan köras.\n",
    "\n",
    "# b- Att fånga undantag betyder att hantera fel som uppstår under programmets körning istället för att låta det krascha. Det hjälper till att ge tydliga felmeddelanden till användaren eller försöka lösa problemet automatiskt.\n",
    "\n",
    "# c- Att lyfta undantag används när du vill meddela en annan del av programmet att något har gått fel, så att det kan hanteras på rätt sätt och förhindra större problem senare."
   ]
  },
  {
   "cell_type": "markdown",
   "id": "e48a5bb4-22b3-4c97-8c0e-a1ffcc636be8",
   "metadata": {},
   "source": [
    "2. a) Förklara vad nedanstående kod gör.\n",
    "\n",
    "   b) Generellt sett, vad är poängen med att använda \"else\"?  "
   ]
  },
  {
   "cell_type": "code",
   "execution_count": 1,
   "id": "dd222cc8-183d-4f33-808d-2c6e996903d0",
   "metadata": {},
   "outputs": [
    {
     "name": "stdout",
     "output_type": "stream",
     "text": [
      "314\n",
      "Invalid input, cannot convert to integer.\n"
     ]
    }
   ],
   "source": [
    "def convert_string_to_int(string):\n",
    "    try:\n",
    "        int(string)\n",
    "    except ValueError:\n",
    "        return \"Invalid input, cannot convert to integer.\"\n",
    "    else:\n",
    "        return int(string)\n",
    "\n",
    "print(convert_string_to_int(\"314\")) \n",
    "print(convert_string_to_int(\"abc\"))  "
   ]
  },
  {
   "cell_type": "code",
   "execution_count": null,
   "id": "0795beee",
   "metadata": {},
   "outputs": [],
   "source": [
    "# a- Funktionen convert_string_to_int(string) försöker omvandla en sträng till ett heltal:\n",
    "#    Om omvandlingen lyckas, returneras heltalet. \n",
    "#    Om det inte går (om strängen är \"abc\") fångas felet (ValueError) och ett meddelande som säger \"Invalid input, cannot convert to integer\" returneras istället.\n",
    "\n",
    "# b- else körs endast om inget fel inträffar i try-blocket. Det hjälper till att separera vanlig logik från felhantering, vilket gör koden tydligare och mer strukturerad."
   ]
  },
  {
   "cell_type": "markdown",
   "id": "184b8227-4840-4f2f-8f10-f4045f3ffc9b",
   "metadata": {},
   "source": [
    "3. Skriv ett kodexempel där du fångar en exception. Endast din kreativitet sätter gränser. "
   ]
  },
  {
   "cell_type": "code",
   "execution_count": 10,
   "id": "d66f40d0-e5bc-4dfa-be57-6806c06a15b0",
   "metadata": {},
   "outputs": [
    {
     "name": "stdout",
     "output_type": "stream",
     "text": [
      "43\n",
      "success\n"
     ]
    }
   ],
   "source": [
    "try: \n",
    "    value = int(input('Enter a number :'))\n",
    "    print (value)\n",
    "except ZeroDivisionError as err:\n",
    "    print (err)\n",
    "except ValueError as err2:\n",
    "    print (err2)\n",
    "\n",
    "print ('success')    "
   ]
  },
  {
   "cell_type": "code",
   "execution_count": 31,
   "id": "e74a65eb",
   "metadata": {},
   "outputs": [
    {
     "name": "stdout",
     "output_type": "stream",
     "text": [
      "Error: Invalid input. Please enter a valid 4-digit year between 1900 and 2024.\n",
      "Error: Invalid input. Please enter a valid 4-digit year between 1900 and 2024.\n",
      "Error: The year must be exactly 4 digits.\n",
      "Your birth year is: 1989\n",
      "Your age in 2024 is: 35 years old.\n"
     ]
    }
   ],
   "source": [
    "def get_birth_year():\n",
    "    while True:\n",
    "        try:\n",
    "            birth_year = input(\"Enter your birth year (e.g., 1985): \") # user to enter their birth year\n",
    "\n",
    "            # convert the input to an integer\n",
    "            year_int = int(birth_year)\n",
    "\n",
    "            # Check if the input is exactly 4 digits and is within the range\n",
    "            if len(birth_year) != 4:\n",
    "                print(\"Error: The year must be exactly 4 digits.\")\n",
    "            elif not (1900 <= year_int <= 2024):\n",
    "                print(\"Error: The year must be between 1900 and 2024.\")\n",
    "            else:\n",
    "                # If all conditions are met, calculate and display the age\n",
    "                age = 2024 - year_int\n",
    "                print(f\"Your birth year is: {year_int}\")\n",
    "                print(f\"Your age in 2024 is: {age} years old.\")\n",
    "                break  # Exit the loop after successful input\n",
    "        \n",
    "        except ValueError:\n",
    "            print(\"Error: Invalid input. Please enter a valid 4-digit year between 1900 and 2024.\")  # Handle the case where the input is not a valid integer\n",
    "\n",
    "get_birth_year()"
   ]
  },
  {
   "cell_type": "markdown",
   "id": "069b6e31-8faa-4550-9cb6-5300c6129167",
   "metadata": {},
   "source": [
    "4. Skapa en funktion \"add_two_small_numbers\" som adderar två tal. Om något av talen är större än 100 så skall du lyfta en exception och skriva ut meddelandet \"both numbers must be smaller than or equal to 100\". "
   ]
  },
  {
   "cell_type": "code",
   "execution_count": 5,
   "id": "1d61210b-b661-46f7-ba28-6da36d56af50",
   "metadata": {},
   "outputs": [
    {
     "name": "stdout",
     "output_type": "stream",
     "text": [
      "65\n",
      "both numbers must be smaller than or equal to 100\n",
      "None\n"
     ]
    }
   ],
   "source": [
    "def add_two_small_numbers(num1, num2):\n",
    "    try:\n",
    "        # Kontrollera om något av talen är större än 100\n",
    "        if num1 > 100 or num2 > 100:\n",
    "            raise ValueError(\"both numbers must be smaller than or equal to 100\")\n",
    "        \n",
    "        return num1 + num2\n",
    "    \n",
    "    except ValueError as e:\n",
    "        # Skriv ut felmeddelandet om ett undantag kastas\n",
    "        print(e)\n",
    "\n",
    "# Testa funktionen\n",
    "print(add_two_small_numbers(45, 20))   \n",
    "print(add_two_small_numbers(130, 20))  \n"
   ]
  },
  {
   "cell_type": "markdown",
   "id": "6b852c0d-dd8b-4baa-8ce5-7d756b45e226",
   "metadata": {},
   "source": [
    "5. Din kollega, som är en skicklig programmerare, brukar innan hon försöker göra ett perfekt fungerande program testa olika ideér för att undersöka och lära sig mer om det problem hon försöker lösa. Nedan ser du ett av hennes skript som gjorts i syfte att undersöka och lära sig mer. Förklara vad det är hon gjort. "
   ]
  },
  {
   "cell_type": "code",
   "execution_count": 6,
   "id": "b8136f69-af5b-4951-a185-fb73eb5e2e8a",
   "metadata": {},
   "outputs": [
    {
     "name": "stdout",
     "output_type": "stream",
     "text": [
      "<class 'TypeError'>\n",
      "unsupported operand type(s) for +: 'int' and 'str'\n"
     ]
    }
   ],
   "source": [
    "# Checking which exception is raised\n",
    "try:\n",
    "    5 + \"Python is fun!\"\n",
    "except Exception as exception_instance:\n",
    "    print(type(exception_instance))\n",
    "    print(exception_instance)"
   ]
  },
  {
   "cell_type": "code",
   "execution_count": null,
   "id": "7d032d97",
   "metadata": {},
   "outputs": [],
   "source": [
    "# Testar vilken typ av undantag som uppstår genom att försöka lägga ihop ett heltal och en sträng, för att se att det kastas ett TypeError."
   ]
  },
  {
   "cell_type": "code",
   "execution_count": 7,
   "id": "c5f5d5f5-4503-4e71-9b90-e97cc1205bae",
   "metadata": {},
   "outputs": [
    {
     "name": "stdout",
     "output_type": "stream",
     "text": [
      "<class 'ZeroDivisionError'>\n",
      "division by zero\n"
     ]
    }
   ],
   "source": [
    "# Checking which exception is raised\n",
    "try:\n",
    "    5/0\n",
    "except Exception as exception_instance:\n",
    "    print(type(exception_instance))\n",
    "    print(exception_instance)"
   ]
  },
  {
   "cell_type": "code",
   "execution_count": 8,
   "id": "311da782",
   "metadata": {},
   "outputs": [],
   "source": [
    "# Testar division med noll genom att försöka dela ett heltal med noll, för att se att ett ZeroDivisionError kastas."
   ]
  },
  {
   "cell_type": "code",
   "execution_count": 32,
   "id": "31c642ee-60af-42cb-9658-5a5752782ed6",
   "metadata": {},
   "outputs": [],
   "source": [
    "def add_two_numbers(a, b):\n",
    "    try:\n",
    "        return(a/b)\n",
    "    except TypeError:\n",
    "        print(\"Both arguments must be numbers.\")\n",
    "    except ZeroDivisionError:\n",
    "        print(\"Division by zero is not defined.\")        "
   ]
  },
  {
   "cell_type": "code",
   "execution_count": 10,
   "id": "feec8834",
   "metadata": {},
   "outputs": [],
   "source": [
    "# Funktion för att dela två tal: Hanterar TypeError om argumenten inte är nummer, och ZeroDivisionError om man försöker dela med noll."
   ]
  },
  {
   "cell_type": "code",
   "execution_count": 11,
   "id": "d4f76310-41bb-4f99-9ed8-e5eacef3cfe4",
   "metadata": {},
   "outputs": [
    {
     "name": "stdout",
     "output_type": "stream",
     "text": [
      "2.5\n",
      "Both arguments must be numbers.\n",
      "None\n",
      "Division by zero is not defined.\n",
      "None\n"
     ]
    }
   ],
   "source": [
    "# Testing so the functionality is as expected\n",
    "print(add_two_numbers(5, 2))\n",
    "print(add_two_numbers(5, \"hello\"))\n",
    "print(add_two_numbers(5, 0))"
   ]
  },
  {
   "cell_type": "code",
   "execution_count": 12,
   "id": "b401f0f3-f93f-43bd-ad29-2fa080338002",
   "metadata": {},
   "outputs": [],
   "source": [
    "# Testar funktionen: Kontrollera att den fungerar som den ska med både giltiga och ogiltiga inmatningar."
   ]
  }
 ],
 "metadata": {
  "kernelspec": {
   "display_name": "Python 3 (ipykernel)",
   "language": "python",
   "name": "python3"
  },
  "language_info": {
   "codemirror_mode": {
    "name": "ipython",
    "version": 3
   },
   "file_extension": ".py",
   "mimetype": "text/x-python",
   "name": "python",
   "nbconvert_exporter": "python",
   "pygments_lexer": "ipython3",
   "version": "3.11.5"
  }
 },
 "nbformat": 4,
 "nbformat_minor": 5
}
