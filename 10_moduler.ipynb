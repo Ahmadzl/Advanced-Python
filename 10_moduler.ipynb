{
 "cells": [
  {
   "cell_type": "markdown",
   "id": "99fdf965-6382-4144-b08f-30fea759de05",
   "metadata": {},
   "source": [
    "# Uppgifter, Kapitel 10 - Moduler och paket"
   ]
  },
  {
   "cell_type": "markdown",
   "id": "0bcaacd2-e69e-4a2c-85b0-fc1bc83353e2",
   "metadata": {},
   "source": [
    "1. Vad är en modul och hur kan en sådan användas i andra filer? "
   ]
  },
  {
   "cell_type": "code",
   "execution_count": null,
   "id": "628bb385-030f-44c3-81f3-ec742ae523dc",
   "metadata": {},
   "outputs": [],
   "source": [
    "# En modul är en Python-fil med .py-extension som innehåller funktioner, klasser eller variabler. För att använda en modul i andra filer importerar du den med import modulnamn eller from modulnamn import något."
   ]
  },
  {
   "cell_type": "markdown",
   "id": "f68d3418-d82f-4a68-b606-a3f320683979",
   "metadata": {},
   "source": [
    "2. a) Importera modulen \"math\" från \"The Python Standard Library\": https://docs.python.org/3/library/index.html utan att använda aliasing.\n",
    "   \n",
    "   b) Skriv help(math.ceil). Förstår du vad \"ceil()\" funktionen gör?\n",
    "\n",
    "   c) Skriv math.ceil(10.2), vad får du för svar och varför?\n",
    "\n",
    "   d) Skriv math.ceil(9.8), vad får du för svar och varför? "
   ]
  },
  {
   "cell_type": "code",
   "execution_count": 2,
   "id": "09dea5fb-7a11-47d2-912f-e07e90de54f5",
   "metadata": {},
   "outputs": [
    {
     "name": "stdout",
     "output_type": "stream",
     "text": [
      "Help on built-in function ceil in module math:\n",
      "\n",
      "ceil(x, /)\n",
      "    Return the ceiling of x as an Integral.\n",
      "    \n",
      "    This is the smallest integer >= x.\n",
      "\n",
      "--------------------\n",
      "11\n",
      "--------------------\n",
      "10\n"
     ]
    }
   ],
   "source": [
    "# a\n",
    "import math\n",
    "\n",
    "# b- \n",
    "help(math.ceil)\n",
    "\n",
    "print ('--------------------')  \n",
    "# c \n",
    "result = math.ceil(10.2)\n",
    "print(result)    \n",
    "\n",
    "print ('--------------------')  \n",
    "# d \n",
    "result = math.ceil(9.8)\n",
    "print(result)"
   ]
  },
  {
   "cell_type": "code",
   "execution_count": null,
   "id": "7597e7a0",
   "metadata": {},
   "outputs": [],
   "source": [
    "# c- Returnerar det minsta heltal som är större än eller lika med 10.2. Eftersom 11 är det första heltalet som uppfyller det kravet, är resultatet 11.\n",
    "\n",
    "# d- math.ceil(9.8) returnerar det minsta heltal som är större än eller lika med 9.8, vilket är 10."
   ]
  },
  {
   "cell_type": "markdown",
   "id": "d6a8bb81-a567-4a38-8972-1e658fd547fa",
   "metadata": {},
   "source": [
    "3. Bygg en egen modul som till exempel innehåller två funktioner, importera därefter denna modulen i ett annat skript och prova använd de två funktionerna. Notera att modulen du bygger skall skrivas i ett \"vanligt skript\" (en .py fil) och inte i en jupyter notebook fil (.ipynb). Du kan däremot importera modulen (.py filen) i en jupyter notebook (.ipynb fil).\n",
    "  \n",
    "   Om du önskar importera en jupyter notebook (.ipynb fil) till en annan jupyter notebook (.ipynb fil) så kan du kolla igenom följande smidiga paket: https://pypi.org/project/import-ipynb/ ."
   ]
  },
  {
   "cell_type": "code",
   "execution_count": 1,
   "id": "9e56e5ea-42f5-4f7b-8aea-fdf8e82f084a",
   "metadata": {},
   "outputs": [],
   "source": [
    "# calculator.py\n",
    "\n",
    "def multiply(a, b):\n",
    "    \"\"\"Return the product of a and b.\"\"\"\n",
    "    return a * b   # Multiplicera två tal och returnera resultatet\n",
    "\n",
    "def divide(a, b):\n",
    "    \"\"\"Return the division of a by b.\"\"\"\n",
    "    if b == 0:   # Om b är 0 kasta ett undantag eftersom division med noll inte är tillåten\n",
    "        raise ValueError(\"Cannot divide by zero.\")\n",
    "    return a / b   # Dela a med b och returnera resultatet"
   ]
  },
  {
   "cell_type": "code",
   "execution_count": null,
   "id": "4d1a4ae2",
   "metadata": {},
   "outputs": [],
   "source": [
    "# calculator.py definierar två funktioner:\n",
    "# multiply(a, b): Multiplicerar två tal och returnerar resultatet.\n",
    "# divide(a, b): Dela ett tal med ett annat och returnerar resultatet. Om det andra talet är 0, kastar funktionen ett undantag eftersom division med noll inte är tillåten."
   ]
  },
  {
   "cell_type": "code",
   "execution_count": null,
   "id": "f19ecdb2",
   "metadata": {},
   "outputs": [],
   "source": [
    "# main_calculator.py\n",
    "\n",
    "# Importera funktioner från modulen calculator\n",
    "from calculator import multiply, divide\n",
    "\n",
    "def main():\n",
    "    # funktionen multiply för att multiplicera 6 och 7\n",
    "    product = multiply(6, 7)\n",
    "    print(f\"Multiplication: 6 * 7 = {product}\")  # Skriv ut resultatet av multiplikationen\n",
    "\n",
    "    try:\n",
    "        # funktionen divide för att dela 14 med 2\n",
    "        quotient = divide(14, 2)\n",
    "        print(f\"Division: 14 / 2 = {quotient}\")  # Skriv ut resultatet av divisionen\n",
    "        \n",
    "        # Försök att dela 14 med 0, vilket kommer att orsaka ett fel\n",
    "        quotient = divide(14, 0)\n",
    "        print(f\"Division: 14 / 0 = {quotient}\")\n",
    "    \n",
    "    except ValueError as e:\n",
    "        print(f\"Error: {e}\") # Fångar och hanterar undantag för division med noll och skriver ut ett felmeddelande\n",
    "\n",
    "if __name__ == \"__main__\":\n",
    "    main()     # Om detta skript körs direkt anropa main-funktionen\n"
   ]
  },
  {
   "cell_type": "code",
   "execution_count": null,
   "id": "c8b473c4",
   "metadata": {},
   "outputs": [],
   "source": [
    "# main_calculator.py gör följande:\n",
    "# Importerar funktionerna multiply och divide från modulen calculator.\n",
    "# main()-funktionen:\n",
    "# Använder multiply för att räkna ut produkten av 6 och 7 och skriver ut resultatet.\n",
    "# Försöker använda divide för att dela 14 med 2 och skriver ut resultatet.\n",
    "# Försöker också dela 14 med 0, vilket orsakar ett fel. Det hanteras med ett try-except-block som fångar undantaget och skriver ut ett felmeddelande.\n",
    "# Kör main()-funktionen om skriptet körs direkt."
   ]
  }
 ],
 "metadata": {
  "kernelspec": {
   "display_name": "Python 3 (ipykernel)",
   "language": "python",
   "name": "python3"
  },
  "language_info": {
   "codemirror_mode": {
    "name": "ipython",
    "version": 3
   },
   "file_extension": ".py",
   "mimetype": "text/x-python",
   "name": "python",
   "nbconvert_exporter": "python",
   "pygments_lexer": "ipython3",
   "version": "3.11.5"
  }
 },
 "nbformat": 4,
 "nbformat_minor": 5
}
