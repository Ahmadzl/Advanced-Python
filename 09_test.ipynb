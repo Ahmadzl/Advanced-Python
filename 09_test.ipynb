{
 "cells": [
  {
   "cell_type": "markdown",
   "id": "99fdf965-6382-4144-b08f-30fea759de05",
   "metadata": {},
   "source": [
    "# Uppgifter, Kapitel 9 - Test"
   ]
  },
  {
   "cell_type": "markdown",
   "id": "0f780504-b98f-4bfc-a3ed-ec42d7a3cdce",
   "metadata": {},
   "source": [
    "1. Varför är det generellt sett en god idé att bygga upp tester för sin kod? "
   ]
  },
  {
   "cell_type": "code",
   "execution_count": null,
   "id": "8c45b6da-0d99-46e1-b5dd-bec67f79cb25",
   "metadata": {},
   "outputs": [],
   "source": [
    "# Det är en bra idea att skapa tester för sin kod för att upptäcka fel tidigt. Testning säkerställer att koden fungerar som förväntat, identifierar problem tidigt och gör framtida ändringar säkrare."
   ]
  },
  {
   "cell_type": "markdown",
   "id": "f96d800b-c554-4fbc-935b-1513d1d88302",
   "metadata": {},
   "source": [
    "2. Nedan ser du funktionen multiply_two_numbers. Använd \"doctest\" modulen för att implementera några test för funktionen \"multiply_two_numbers\". \n",
    "Den läsare som önskar kan även implementera testen i modulen \"pytest\". "
   ]
  },
  {
   "cell_type": "code",
   "execution_count": 1,
   "id": "4d9efa9f-ad7f-4a60-9cbc-7c9a83e474d9",
   "metadata": {},
   "outputs": [],
   "source": [
    "def multiply_two_numbers(a, b):\n",
    "    \"\"\"Return the product of a and b.\"\"\"\n",
    "    return a*b"
   ]
  },
  {
   "cell_type": "code",
   "execution_count": 7,
   "id": "6abe6e97-272f-41ec-b5f5-b64bb125da2e",
   "metadata": {},
   "outputs": [],
   "source": [
    "def multiply_two_numbers(a, b):\n",
    "    \"\"\"\n",
    "    Return the product of a and b.\n",
    "\n",
    "    Examples:\n",
    "    >>> multiply_two_numbers(2, 2)\n",
    "    4\n",
    "    >>> multiply_two_numbers(-1, 2)\n",
    "    -2\n",
    "    >>> multiply_two_numbers(1.5, 2)\n",
    "    3.0\n",
    "    >>> multiply_two_numbers(-1, -2)\n",
    "    2\n",
    "    \"\"\"\n",
    "    return a * b\n",
    "\n",
    "if __name__ == \"__main__\":\n",
    "    import doctest\n",
    "    doctest.testmod()"
   ]
  },
  {
   "cell_type": "code",
   "execution_count": null,
   "id": "9e2c4b0d",
   "metadata": {},
   "outputs": [],
   "source": [
    "# koden skrev på det här sättet för att följa de rekommendationer som finns på Python's officiella webbplats.\n",
    "# Dokstrings: Används för att förklara vad funktionen gör och ge exempel på hur den används. \n",
    "# Det gör det lättare att förstå koden.\n",
    "# Doctest: Testar automatiskt att exempel i dokstrings fungerar som de ska när du kör skriptet.\n",
    "# Det här sättet att skriva kod är bra för att säkerställa att funktionen fungerar korrekt och är lätt att förstå, och det är en rekommenderad praxis från Python-dokumentationen."
   ]
  },
  {
   "cell_type": "markdown",
   "id": "5e6b613d-6415-4f99-bfb2-83fe23b15c7d",
   "metadata": {},
   "source": [
    "3. Skriv någon kod eller använd någon kod som du till exempel skrivit i tidigare kapitels uppgifter och implementera några test. Använd \"doctest\" och/eller \"pytest\" modulen. "
   ]
  },
  {
   "cell_type": "code",
   "execution_count": 8,
   "id": "5973e826-4088-420d-8762-d29723fe62f9",
   "metadata": {},
   "outputs": [],
   "source": [
    "def is_prime(n):\n",
    "    \"\"\"\n",
    "    Kontrollera om ett tal är ett primtal.\n",
    "\n",
    "    Ett primtal är ett tal som är större än 1 och som inte har några andra positiva delare\n",
    "    än 1 och sig självt.\n",
    "\n",
    "    Args:\n",
    "    n (int): Talet att kontrollera.\n",
    "\n",
    "    Returns:\n",
    "    bool: True om n är ett primtal, annars False.\n",
    "\n",
    "    Exempel:\n",
    "    >>> is_prime(2)\n",
    "    True\n",
    "    >>> is_prime(4)\n",
    "    False\n",
    "    >>> is_prime(13)\n",
    "    True\n",
    "    >>> is_prime(1)\n",
    "    False\n",
    "    >>> is_prime(0)\n",
    "    False\n",
    "    \"\"\"\n",
    "    # Kontrollera om talet är mindre än eller lika med 1\n",
    "    if n <= 1:\n",
    "        return False\n",
    "    # Kontrollera om talet är delbart med något tal från 2 till n-1\n",
    "    for i in range(2, int(n**0.5) + 1):\n",
    "        if n % i == 0:\n",
    "            return False\n",
    "# Om inget tal är en delare, är det ett primtal\n",
    "    return True"
   ]
  },
  {
   "cell_type": "code",
   "execution_count": null,
   "id": "ee48e7bf",
   "metadata": {},
   "outputs": [],
   "source": [
    "# Funktion: is_prime(n) kollar om ett tal är ett primtal genom att kontrollera delbarhet. Denna stil är klar och effektiv, och följer de rekommenderade konventionerna från Python."
   ]
  }
 ],
 "metadata": {
  "kernelspec": {
   "display_name": "Python 3 (ipykernel)",
   "language": "python",
   "name": "python3"
  },
  "language_info": {
   "codemirror_mode": {
    "name": "ipython",
    "version": 3
   },
   "file_extension": ".py",
   "mimetype": "text/x-python",
   "name": "python",
   "nbconvert_exporter": "python",
   "pygments_lexer": "ipython3",
   "version": "3.11.5"
  }
 },
 "nbformat": 4,
 "nbformat_minor": 5
}
